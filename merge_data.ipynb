{
 "cells": [
  {
   "cell_type": "code",
   "execution_count": 1,
   "metadata": {},
   "outputs": [],
   "source": [
    "import pandas as pd \n",
    "import numpy as np \n",
    "import os "
   ]
  },
  {
   "cell_type": "code",
   "execution_count": 5,
   "metadata": {},
   "outputs": [
    {
     "data": {
      "text/plain": [
       "['afghanistan-natural-disaster-incidents-from-1-january-to-31-december-2017.csv',\n",
       " 'afghanistan-natural-disaster-incidents-from-january-to-december-2018.csv',\n",
       " 'afghanistan-natural-disaster-incidents-from-january-to-december-2019.csv',\n",
       " 'afghanistan-natural-disaster-incidents-from-january-to-december-2020.csv',\n",
       " 'afghanistan-natural-disaster-incidents-from-january-to-july-2021.csv',\n",
       " 'afghanistan-natural-disaster-incidents-from-january-to-september-2022-1-1.csv']"
      ]
     },
     "execution_count": 5,
     "metadata": {},
     "output_type": "execute_result"
    }
   ],
   "source": [
    "all_files = os.listdir()\n",
    "csv_files = all_files[:len(all_files)-1]\n",
    "\n",
    "csv_files"
   ]
  },
  {
   "cell_type": "code",
   "execution_count": 8,
   "metadata": {},
   "outputs": [],
   "source": [
    "main_df = pd.read_csv(csv_files[0])\n",
    "# main_df\n",
    "for i in range(1, len(csv_files)):\n",
    "    next_df = pd.read_csv(csv_files[i]) \n",
    "    main_df = pd.concat([next_df, main_df])\n",
    "    \n",
    "main_df.to_csv(\"afghan_ND_data.csv\")\n",
    "    "
   ]
  }
 ],
 "metadata": {
  "kernelspec": {
   "display_name": "Python 3",
   "language": "python",
   "name": "python3"
  },
  "language_info": {
   "codemirror_mode": {
    "name": "ipython",
    "version": 3
   },
   "file_extension": ".py",
   "mimetype": "text/x-python",
   "name": "python",
   "nbconvert_exporter": "python",
   "pygments_lexer": "ipython3",
   "version": "3.10.8"
  },
  "orig_nbformat": 4,
  "vscode": {
   "interpreter": {
    "hash": "43afbf7b8c92a6397086dae0be21e5b6ecbdfbb1f0b6983c22cfbb740a73e7f5"
   }
  }
 },
 "nbformat": 4,
 "nbformat_minor": 2
}
